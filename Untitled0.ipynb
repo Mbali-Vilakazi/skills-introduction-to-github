{
  "nbformat": 4,
  "nbformat_minor": 0,
  "metadata": {
    "colab": {
      "provenance": [],
      "authorship_tag": "ABX9TyOUd0hAszT09o4acW4NoWxq",
      "include_colab_link": true
    },
    "kernelspec": {
      "name": "python3",
      "display_name": "Python 3"
    },
    "language_info": {
      "name": "python"
    }
  },
  "cells": [
    {
      "cell_type": "markdown",
      "metadata": {
        "id": "view-in-github",
        "colab_type": "text"
      },
      "source": [
        "<a href=\"https://colab.research.google.com/github/Mbali-Vilakazi/skills-introduction-to-github/blob/main/Untitled0.ipynb\" target=\"_parent\"><img src=\"https://colab.research.google.com/assets/colab-badge.svg\" alt=\"Open In Colab\"/></a>"
      ]
    },
    {
      "cell_type": "code",
      "execution_count": null,
      "metadata": {
        "id": "MRb-4-nacEZU"
      },
      "outputs": [],
      "source": []
    },
    {
      "cell_type": "markdown",
      "source": [
        "#Data analytics training 18/10/2024"
      ],
      "metadata": {
        "id": "14PuTUxdczwh"
      }
    },
    {
      "cell_type": "markdown",
      "source": [
        "## Basics\n"
      ],
      "metadata": {
        "id": "_pTNjMpPd2sX"
      }
    },
    {
      "cell_type": "markdown",
      "source": [
        "### start\n"
      ],
      "metadata": {
        "id": "93rn_yR1d71T"
      }
    },
    {
      "cell_type": "markdown",
      "source": [
        "# Data analytics"
      ],
      "metadata": {
        "id": "SgCgJqHMd-P4"
      }
    }
  ]
}